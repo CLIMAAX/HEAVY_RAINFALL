{
 "cells": [
  {
   "cell_type": "markdown",
   "id": "a6b12df3",
   "metadata": {},
   "source": [
    "# Extreme precipitation: Interactive visualisation\n",
    "Click [![Binder](https://mybinder.org/badge_logo.svg)](https://mybinder.org/v2/gh/CLIMAAX/HEAVY_RAINFALL/main?labpath=EXTREME_PRECIPITATION.ipynb) to launch this notebook on MyBinder.<br>\n",
    "Click [![Heavy Rainfall](https://img.shields.io/badge/HEAVY_RAINFALL-repository-blue)](https://github.com/CLIMAAX/HEAVY_RAINFALL/tree/main) to go to this workflow's GitHub repository.\n",
    "\n",
    "The data used for the changes in extreme precipitation visualisation at a European-scale has been prepared by CRAHI-UPC. The steps outlined in the section “Extreme precipitation: Changes under climate scenarios workflow [Data processing]” were followed to compute the rainfall return periods for specific durations, Global-Regional climate model pairs and RPCs (Representation Concentration Pathways). The generated information can be utilised to identify whether the local critical impact rainfall thresholds for infrastructures, vulnerable locations or areas are exceeded (or not) under the influence of climate change scenarios.\n",
    "\n",
    "We encourage you to explore your region for specific climate information.\n",
    "\n",
    "**Start the visualisation**\n",
    "\n",
    "To initialise the interactive visualisation go to the top menu and click on Run -> Run all Cells"
   ]
  },
  {
   "cell_type": "code",
   "execution_count": null,
   "id": "0d5590d2-6ae9-496f-8c4b-0502f13dc8d0",
   "metadata": {},
   "outputs": [
    {
     "name": "stdout",
     "output_type": "stream",
     "text": [
      "Downloading data...\n",
      "Creating palettes...\n",
      "Getting static attributes...\n",
      "Loading images...\n",
      "loading model data...\n",
      "creating user interface...\n"
     ]
    },
    {
     "data": {
      "application/vnd.jupyter.widget-view+json": {
       "model_id": "e76675e3267a49ffb4a17ada1575ebb7",
       "version_major": 2,
       "version_minor": 0
      },
      "text/plain": [
       "VBox(children=(HBox(children=(VBox(children=(HTML(value='<b>Global Climate Model</b>'), Dropdown(layout=Layout…"
      ]
     },
     "execution_count": 2,
     "metadata": {},
     "output_type": "execute_result"
    }
   ],
   "source": [
    "%run EXTREME_PRECIPITATION_functions.ipynb\n",
    "widgets.VBox(WIDGETS_LIST)"
   ]
  },
  {
   "cell_type": "markdown",
   "id": "8cf712be",
   "metadata": {},
   "source": [
    "## Authors\n",
    "The Center of Applied Research in Hydrometrology from the Universitat Politècnica de Catalunya (CRAHI-UPC). The members involved in the development of this workflow were the following (alphabetic order):\n",
    "\n",
    "Marta Gabarró Solanas<br>\n",
    "Víctor González<br>\n",
    "Erika R. Meléndez-Landaverde<br>\n",
    "Daniel Sempere-Torres"
   ]
  }
 ],
 "metadata": {
  "kernelspec": {
   "display_name": "Python 3 (ipykernel)",
   "language": "python",
   "name": "python3"
  },
  "language_info": {
   "codemirror_mode": {
    "name": "ipython",
    "version": 3
   },
   "file_extension": ".py",
   "mimetype": "text/x-python",
   "name": "python",
   "nbconvert_exporter": "python",
   "pygments_lexer": "ipython3",
   "version": "3.9.2"
  }
 },
 "nbformat": 4,
 "nbformat_minor": 5
}
